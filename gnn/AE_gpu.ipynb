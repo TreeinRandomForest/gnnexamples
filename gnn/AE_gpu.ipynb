{
 "cells": [
  {
   "cell_type": "code",
   "execution_count": 15,
   "metadata": {},
   "outputs": [],
   "source": [
    "%load_ext autoreload\n",
    "%autoreload 2"
   ]
  },
  {
   "cell_type": "code",
   "execution_count": 77,
   "metadata": {},
   "outputs": [],
   "source": [
    "from model import AutoEncoder_gnnrnn\n",
    "from data import prepare_data_vocab, live_feat, batch_gnn_for_gpu\n",
    "import torch.nn as nn\n",
    "import torch.optim as optim\n"
   ]
  },
  {
   "cell_type": "code",
   "execution_count": 17,
   "metadata": {},
   "outputs": [],
   "source": [
    "word_to_idx, idx_to_word, data, data_emb = prepare_data_vocab(\"data\", func=live_feat, function_num=0)"
   ]
  },
  {
   "cell_type": "code",
   "execution_count": 62,
   "metadata": {},
   "outputs": [
    {
     "name": "stdout",
     "output_type": "stream",
     "text": [
      "42\n"
     ]
    }
   ],
   "source": [
    "\n",
    "print(len(result))"
   ]
  },
  {
   "cell_type": "code",
   "execution_count": 79,
   "metadata": {},
   "outputs": [],
   "source": [
    "bidir          = True\n",
    "dir            = 2 if bidir else 1 \n",
    "batch_size     = 256\n",
    "num_layers_enc = 6\n",
    "hidden_dim_enc = 16\n",
    "num_layers_dec = 6\n",
    "hidden_dim_dec = 16\n",
    "emb_dim        = 32\n",
    "N_max          = len(word_to_idx)+1\n",
    "\n",
    "dataset = split_pp_into_sublists(data_emb, batch_size)\n",
    "\n",
    "ae = AutoEncoder_gnnrnn(batch_size     = batch_size,\n",
    "            bidir          = True,\n",
    "            num_layers_enc = num_layers_enc,\n",
    "            hidden_dim_enc = hidden_dim_enc,\n",
    "            num_layers_dec = num_layers_dec,\n",
    "            hidden_dim_dec = num_layers_dec,\n",
    "            emb_dim        = emb_dim,\n",
    "            N_max          = N_max)"
   ]
  },
  {
   "cell_type": "code",
   "execution_count": 80,
   "metadata": {},
   "outputs": [
    {
     "name": "stdout",
     "output_type": "stream",
     "text": [
      "For 0 functions: Epoch 20/100, Average Loss: 4.16697\r"
     ]
    }
   ],
   "source": [
    "if torch.cuda.is_available():\n",
    "    device = torch.device(\"cuda\")  # Or \"cuda:0\" for the first GPU\n",
    "else:\n",
    "    device = torch.device(\"cpu\")\n",
    "\n",
    "#device = torch.device(\"cpu\")\n",
    "ae.to(device)\n",
    "\n",
    "\n",
    "data_gpu = batch_gnn_for_gpu(dataset, device)\n",
    "\n",
    "criterion = nn.CrossEntropyLoss()\n",
    "#data_emb_device = [(edge_index.to(device), [bb.to(device) for bb in node_embs ]) for (edge_index, node_embs) in data_emb] \n",
    "optimizer = optim.Adam(ae.parameters(), lr=0.01)\n",
    "epoch_num = 100\n",
    "for epoch in range(epoch_num):\n",
    "    total_loss = 0\n",
    "    total_items = 0\n",
    "    j = -1\n",
    "    for (padded_seq, lengths, edge_index) in data_gpu:\n",
    "        out = ae(padded_seq, lengths, edge_index)\n",
    "        loss = criterion(out.flatten(0).reshape(-1,N_max), padded_seq.flatten())\n",
    "        total_loss  += loss.item()\n",
    "        optimizer.zero_grad()\n",
    "        loss.backward()\n",
    "        optimizer.step()\n",
    "    \n",
    "    print(f'For {j+1} functions: Epoch {epoch+1}/{epoch_num}, Average Loss: {total_loss:.5f}', end='\\r')"
   ]
  }
 ],
 "metadata": {
  "kernelspec": {
   "display_name": "Python 3",
   "language": "python",
   "name": "python3"
  },
  "language_info": {
   "codemirror_mode": {
    "name": "ipython",
    "version": 3
   },
   "file_extension": ".py",
   "mimetype": "text/x-python",
   "name": "python",
   "nbconvert_exporter": "python",
   "pygments_lexer": "ipython3",
   "version": "3.10.12"
  }
 },
 "nbformat": 4,
 "nbformat_minor": 2
}
