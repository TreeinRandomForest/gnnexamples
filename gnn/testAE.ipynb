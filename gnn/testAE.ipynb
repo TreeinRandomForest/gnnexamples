{
 "cells": [
  {
   "cell_type": "code",
   "execution_count": 2,
   "metadata": {},
   "outputs": [],
   "source": [
    "%load_ext autoreload\n",
    "%autoreload 2"
   ]
  },
  {
   "cell_type": "code",
   "execution_count": 3,
   "metadata": {},
   "outputs": [
    {
     "name": "stdout",
     "output_type": "stream",
     "text": [
      "[['store', 'double', 'TMP_VAR(INFUNCTION_VAR)', 'TMP_VAR', ';', 'load', 'TMP_VAR', 'double', 'TMP_VAR(INFUNCTION_VAR)', ';', 'assignment', 'TMP_POINTER_MEMBER', 'TMP_VAR', ';', 'assignment', 'TMP_VAR', 'TMP_POINTER_MEMBER', ';', 'math_op', 'TMP_VAR', 'TMP_NUMBER', '/', 'TMP_VAR', ';', 'function_call', 'INFUNCTION_VAR', 'TMP_FUNCTION_ARG_1', 'TMP_FUNCTION_ARG_2', ';', 'function_call', 'INFUNCTION_VAR', 'TMP_FUNCTION_ARG_1', 'TMP_FUNCTION_ARG_2', 'TMP_FUNCTION_ARG_3', 'TMP_FUNCTION_ARG_4', ';', 'math_op', 'TMP_VAR', 'TMP_VAR', '+', 'TMP_NUMBER', ';', 'assignment', 'INFUNCTION_VAR', 'TMP_VAR', ';', 'phi', ';']]\n"
     ]
    }
   ],
   "source": [
    "from model import *\n",
    "from data import prepare_data_vocab, live_feat\n",
    "from torch.nn.utils.rnn import unpack_sequence\n",
    "from torch_geometric.data import Data\n",
    "\n",
    "\n",
    "import torch.optim as optim\n",
    "from torch_geometric.data import Data"
   ]
  },
  {
   "cell_type": "code",
   "execution_count": 4,
   "metadata": {},
   "outputs": [],
   "source": [
    "word_to_idx, idx_to_word, data, data_emb = prepare_data_vocab(\"data\", func=live_feat, function_num=0)"
   ]
  },
  {
   "cell_type": "code",
   "execution_count": 5,
   "metadata": {},
   "outputs": [
    {
     "data": {
      "text/plain": [
       "0"
      ]
     },
     "execution_count": 5,
     "metadata": {},
     "output_type": "execute_result"
    }
   ],
   "source": [
    "torch.cuda.current_device()"
   ]
  },
  {
   "cell_type": "code",
   "execution_count": 30,
   "metadata": {},
   "outputs": [
    {
     "name": "stdout",
     "output_type": "stream",
     "text": [
      "{'(INFUNCTION_VAR * INFUNCTION_VAR)TMP_FUNCTION_NAME': 0, '(INFUNCTION_VAR *)TMP_VAR': 1, '*': 2, '+': 3, '-': 4, '-TMP_NUMBER': 5, '-TMP_VAR': 6, '/': 7, ';': 8, 'INFUNCTION_VAR': 9, 'INFUNCTION_VAR.INFUNCTION_VAR': 10, 'TMP_FUNCTION_ARG_1': 11, 'TMP_FUNCTION_ARG_10': 12, 'TMP_FUNCTION_ARG_11': 13, 'TMP_FUNCTION_ARG_2': 14, 'TMP_FUNCTION_ARG_3': 15, 'TMP_FUNCTION_ARG_4': 16, 'TMP_FUNCTION_ARG_5': 17, 'TMP_FUNCTION_ARG_6': 18, 'TMP_FUNCTION_ARG_7': 19, 'TMP_FUNCTION_ARG_8': 20, 'TMP_FUNCTION_ARG_9': 21, 'TMP_FUNCTION_NAME': 22, 'TMP_NUMBER': 23, 'TMP_POINTER_MEMBER': 24, 'TMP_VAR': 25, 'TMP_VAR(INFUNCTION_VAR)': 26, 'TMP_VAR(TMP_FUNCTION_NAME)': 27, 'assignment': 28, 'char': 29, 'double': 30, 'float': 31, 'function_call': 32, 'gsl_error': 33, 'int': 34, 'load': 35, 'math_op': 36, 'phi': 37, 'size_t': 38, 'store': 39}\n"
     ]
    }
   ],
   "source": [
    "print(word_to_idx)"
   ]
  },
  {
   "cell_type": "code",
   "execution_count": 31,
   "metadata": {},
   "outputs": [
    {
     "data": {
      "text/plain": [
       "tensor([ 0,  1,  2,  3,  4,  5,  6,  7,  8,  9, 10, 11, 12, 13, 14, 15, 16, 17,\n",
       "        18, 19, 20, 21, 22, 23, 24, 25, 26, 27, 28, 29, 30, 31, 32, 33, 34, 35,\n",
       "        36, 37, 38, 39], dtype=torch.int32)"
      ]
     },
     "execution_count": 31,
     "metadata": {},
     "output_type": "execute_result"
    }
   ],
   "source": [
    "torch.tensor(list(word_to_idx.values()), dtype=torch.int)"
   ]
  },
  {
   "cell_type": "code",
   "execution_count": 11,
   "metadata": {},
   "outputs": [
    {
     "ename": "KeyboardInterrupt",
     "evalue": "",
     "output_type": "error",
     "traceback": [
      "\u001b[0;31m---------------------------------------------------------------------------\u001b[0m",
      "\u001b[0;31mKeyboardInterrupt\u001b[0m                         Traceback (most recent call last)",
      "Cell \u001b[0;32mIn [11], line 24\u001b[0m\n\u001b[1;32m     21\u001b[0m edge_index, node_embs \u001b[38;5;241m=\u001b[39m graph\n\u001b[1;32m     22\u001b[0m \u001b[38;5;28;01mfor\u001b[39;00m bb \u001b[38;5;129;01min\u001b[39;00m node_embs:\n\u001b[1;32m     23\u001b[0m     \u001b[38;5;66;03m#bb_device = bb.to(device)\u001b[39;00m\n\u001b[0;32m---> 24\u001b[0m     out, embs \u001b[38;5;241m=\u001b[39m \u001b[43mae\u001b[49m\u001b[43m(\u001b[49m\u001b[43mbb\u001b[49m\u001b[43m)\u001b[49m\n\u001b[1;32m     25\u001b[0m     \u001b[38;5;66;03m#print(a.shape)\u001b[39;00m\n\u001b[1;32m     26\u001b[0m     \u001b[38;5;66;03m#print(out)\u001b[39;00m\n\u001b[1;32m     27\u001b[0m     \u001b[38;5;66;03m#total_loss += unsupervised_loss.item()\u001b[39;00m\n\u001b[1;32m     28\u001b[0m     \u001b[38;5;66;03m#loss = criterion(out, embs)\u001b[39;00m\n\u001b[1;32m     29\u001b[0m     loss \u001b[38;5;241m=\u001b[39m criterion(out, bb)\n",
      "File \u001b[0;32m~/.local/lib/python3.10/site-packages/torch/nn/modules/module.py:1511\u001b[0m, in \u001b[0;36mModule._wrapped_call_impl\u001b[0;34m(self, *args, **kwargs)\u001b[0m\n\u001b[1;32m   1509\u001b[0m     \u001b[38;5;28;01mreturn\u001b[39;00m \u001b[38;5;28mself\u001b[39m\u001b[38;5;241m.\u001b[39m_compiled_call_impl(\u001b[38;5;241m*\u001b[39margs, \u001b[38;5;241m*\u001b[39m\u001b[38;5;241m*\u001b[39mkwargs)  \u001b[38;5;66;03m# type: ignore[misc]\u001b[39;00m\n\u001b[1;32m   1510\u001b[0m \u001b[38;5;28;01melse\u001b[39;00m:\n\u001b[0;32m-> 1511\u001b[0m     \u001b[38;5;28;01mreturn\u001b[39;00m \u001b[38;5;28;43mself\u001b[39;49m\u001b[38;5;241;43m.\u001b[39;49m\u001b[43m_call_impl\u001b[49m\u001b[43m(\u001b[49m\u001b[38;5;241;43m*\u001b[39;49m\u001b[43margs\u001b[49m\u001b[43m,\u001b[49m\u001b[43m \u001b[49m\u001b[38;5;241;43m*\u001b[39;49m\u001b[38;5;241;43m*\u001b[39;49m\u001b[43mkwargs\u001b[49m\u001b[43m)\u001b[49m\n",
      "File \u001b[0;32m~/.local/lib/python3.10/site-packages/torch/nn/modules/module.py:1520\u001b[0m, in \u001b[0;36mModule._call_impl\u001b[0;34m(self, *args, **kwargs)\u001b[0m\n\u001b[1;32m   1515\u001b[0m \u001b[38;5;66;03m# If we don't have any hooks, we want to skip the rest of the logic in\u001b[39;00m\n\u001b[1;32m   1516\u001b[0m \u001b[38;5;66;03m# this function, and just call forward.\u001b[39;00m\n\u001b[1;32m   1517\u001b[0m \u001b[38;5;28;01mif\u001b[39;00m \u001b[38;5;129;01mnot\u001b[39;00m (\u001b[38;5;28mself\u001b[39m\u001b[38;5;241m.\u001b[39m_backward_hooks \u001b[38;5;129;01mor\u001b[39;00m \u001b[38;5;28mself\u001b[39m\u001b[38;5;241m.\u001b[39m_backward_pre_hooks \u001b[38;5;129;01mor\u001b[39;00m \u001b[38;5;28mself\u001b[39m\u001b[38;5;241m.\u001b[39m_forward_hooks \u001b[38;5;129;01mor\u001b[39;00m \u001b[38;5;28mself\u001b[39m\u001b[38;5;241m.\u001b[39m_forward_pre_hooks\n\u001b[1;32m   1518\u001b[0m         \u001b[38;5;129;01mor\u001b[39;00m _global_backward_pre_hooks \u001b[38;5;129;01mor\u001b[39;00m _global_backward_hooks\n\u001b[1;32m   1519\u001b[0m         \u001b[38;5;129;01mor\u001b[39;00m _global_forward_hooks \u001b[38;5;129;01mor\u001b[39;00m _global_forward_pre_hooks):\n\u001b[0;32m-> 1520\u001b[0m     \u001b[38;5;28;01mreturn\u001b[39;00m \u001b[43mforward_call\u001b[49m\u001b[43m(\u001b[49m\u001b[38;5;241;43m*\u001b[39;49m\u001b[43margs\u001b[49m\u001b[43m,\u001b[49m\u001b[43m \u001b[49m\u001b[38;5;241;43m*\u001b[39;49m\u001b[38;5;241;43m*\u001b[39;49m\u001b[43mkwargs\u001b[49m\u001b[43m)\u001b[49m\n\u001b[1;32m   1522\u001b[0m \u001b[38;5;28;01mtry\u001b[39;00m:\n\u001b[1;32m   1523\u001b[0m     result \u001b[38;5;241m=\u001b[39m \u001b[38;5;28;01mNone\u001b[39;00m\n",
      "File \u001b[0;32m~/Home/BU/HLS/GNN/gnnexamples/gnn/model.py:339\u001b[0m, in \u001b[0;36mAE_rnn.forward\u001b[0;34m(self, x)\u001b[0m\n\u001b[1;32m    336\u001b[0m     outs\u001b[38;5;241m.\u001b[39mappend(pred\u001b[38;5;241m.\u001b[39msqueeze())\n\u001b[1;32m    337\u001b[0m \u001b[38;5;66;03m#print(outs)\u001b[39;00m\n\u001b[1;32m    338\u001b[0m \u001b[38;5;66;03m#return torch.stack([self.emb(elem) for elem in outs]).squeeze(), embs.squeeze()\u001b[39;00m\n\u001b[0;32m--> 339\u001b[0m \u001b[38;5;28;01mreturn\u001b[39;00m torch\u001b[38;5;241m.\u001b[39mstack(outs), \u001b[43membs\u001b[49m\u001b[38;5;241;43m.\u001b[39;49m\u001b[43msqueeze\u001b[49m\u001b[43m(\u001b[49m\u001b[43m)\u001b[49m\n",
      "\u001b[0;31mKeyboardInterrupt\u001b[0m: "
     ]
    }
   ],
   "source": [
    "hidden_dim = 13\n",
    "if torch.cuda.is_available():\n",
    "    device = torch.device(\"cuda\")  # Or \"cuda:0\" for the first GPU\n",
    "else:\n",
    "    device = torch.device(\"cpu\")\n",
    "idx = torch.tensor(list(word_to_idx.values())).to(device)\n",
    "\n",
    "ae = AE_rnn(device, idx, 7, 13, 3)#.to(device)\n",
    "ae.to(device)\n",
    "\n",
    "criterion = nn.CrossEntropyLoss()\n",
    "data_emb_device = [(edge_index.to(device), [bb.to(device) for bb in node_embs ]) for (edge_index, node_embs) in data_emb] \n",
    "optimizer = optim.Adam(ae.parameters(), lr=0.01)\n",
    "epoch_num = 1000\n",
    "for epoch in range(epoch_num):\n",
    "    total_loss = 0\n",
    "    total_items = 0\n",
    "    j = -1\n",
    "    for graph in data_emb_device:\n",
    "        j += 1\n",
    "        edge_index, node_embs = graph\n",
    "        for bb in node_embs:\n",
    "            #bb_device = bb.to(device)\n",
    "            out, embs = ae(bb)\n",
    "            #print(a.shape)\n",
    "            #print(out)\n",
    "            #total_loss += unsupervised_loss.item()\n",
    "            #loss = criterion(out, embs)\n",
    "            loss = criterion(out, bb)\n",
    "            #loss = criterion(output, initial_node_embeddings[j])\n",
    "            # Backward pass and optimization\n",
    "            total_loss  += loss.item()\n",
    "            total_items += bb.shape[0]\n",
    "\n",
    "            optimizer.zero_grad()\n",
    "            loss.backward()\n",
    "            optimizer.step()\n",
    "    # Print or log the average loss for monitoring\n",
    "    if epoch%10==0 or epoch==epoch_num-1:\n",
    "        avg_loss = total_loss / len(data_emb)\n",
    "        print(f'For {j+1} functions: Epoch {epoch+1}/{epoch_num}, Average Loss: {avg_loss:.5f}', end='\\r')\n",
    "    if epoch%100==0 or epoch==epoch_num-1:\n",
    "        avg_loss = total_loss / len(data_emb)\n",
    "        print(f'For {j+1} functions: Epoch {epoch+1}/{epoch_num}, Average Loss: {avg_loss:.5f}', end='\\n')"
   ]
  }
 ],
 "metadata": {
  "kernelspec": {
   "display_name": "Python 3",
   "language": "python",
   "name": "python3"
  },
  "language_info": {
   "codemirror_mode": {
    "name": "ipython",
    "version": 3
   },
   "file_extension": ".py",
   "mimetype": "text/x-python",
   "name": "python",
   "nbconvert_exporter": "python",
   "pygments_lexer": "ipython3",
   "version": "3.10.12"
  }
 },
 "nbformat": 4,
 "nbformat_minor": 2
}
