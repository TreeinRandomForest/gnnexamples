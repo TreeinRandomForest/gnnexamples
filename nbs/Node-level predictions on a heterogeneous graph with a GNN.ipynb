{
 "cells": [
  {
   "cell_type": "code",
   "execution_count": 27,
   "id": "9fd15028",
   "metadata": {},
   "outputs": [],
   "source": [
    "import numpy as np\n",
    "import matplotlib.pyplot as plt\n",
    "import torch\n",
    "import torch_geometric\n",
    "import torch_geometric.transforms as T\n",
    "from torch_geometric.nn import HeteroConv, SAGEConv, GCNConv, Linear\n",
    "from torch_geometric.loader import NeighborLoader\n",
    "\n",
    "%matplotlib inline"
   ]
  },
  {
   "cell_type": "markdown",
   "id": "46de50a5",
   "metadata": {},
   "source": [
    "This data is not code specific but code-specific graphs (CFDG etc.) can be swapped in"
   ]
  },
  {
   "cell_type": "code",
   "execution_count": 2,
   "id": "cadef930",
   "metadata": {},
   "outputs": [],
   "source": [
    "from torch_geometric.datasets import OGB_MAG"
   ]
  },
  {
   "cell_type": "code",
   "execution_count": 3,
   "id": "3cd8f647",
   "metadata": {},
   "outputs": [],
   "source": [
    "#see: https://ogb.stanford.edu/docs/nodeprop/#ogbn-mag\n",
    "ds = OGB_MAG(root='./data', preprocess='metapath2vec')"
   ]
  },
  {
   "cell_type": "code",
   "execution_count": 4,
   "id": "8d776bcb",
   "metadata": {},
   "outputs": [
    {
     "name": "stdout",
     "output_type": "stream",
     "text": [
      "Number of graphs 1\n"
     ]
    }
   ],
   "source": [
    "print(f'Number of graphs {len(ds)}')"
   ]
  },
  {
   "cell_type": "code",
   "execution_count": 5,
   "id": "a47c32f9",
   "metadata": {},
   "outputs": [],
   "source": [
    "data = ds[0]"
   ]
  },
  {
   "cell_type": "code",
   "execution_count": 6,
   "id": "65ecd44e",
   "metadata": {},
   "outputs": [
    {
     "data": {
      "text/plain": [
       "HeteroData(\n",
       "  \u001b[1mpaper\u001b[0m={\n",
       "    x=[736389, 128],\n",
       "    year=[736389],\n",
       "    y=[736389],\n",
       "    train_mask=[736389],\n",
       "    val_mask=[736389],\n",
       "    test_mask=[736389]\n",
       "  },\n",
       "  \u001b[1mauthor\u001b[0m={ x=[1134649, 128] },\n",
       "  \u001b[1minstitution\u001b[0m={ x=[8740, 128] },\n",
       "  \u001b[1mfield_of_study\u001b[0m={ x=[59965, 128] },\n",
       "  \u001b[1m(author, affiliated_with, institution)\u001b[0m={ edge_index=[2, 1043998] },\n",
       "  \u001b[1m(author, writes, paper)\u001b[0m={ edge_index=[2, 7145660] },\n",
       "  \u001b[1m(paper, cites, paper)\u001b[0m={ edge_index=[2, 5416271] },\n",
       "  \u001b[1m(paper, has_topic, field_of_study)\u001b[0m={ edge_index=[2, 7505078] }\n",
       ")"
      ]
     },
     "execution_count": 6,
     "metadata": {},
     "output_type": "execute_result"
    }
   ],
   "source": [
    "data"
   ]
  },
  {
   "cell_type": "code",
   "execution_count": 7,
   "id": "7ddba021",
   "metadata": {},
   "outputs": [
    {
     "data": {
      "text/plain": [
       "['paper', 'author', 'institution', 'field_of_study']"
      ]
     },
     "execution_count": 7,
     "metadata": {},
     "output_type": "execute_result"
    }
   ],
   "source": [
    "data.node_types"
   ]
  },
  {
   "cell_type": "code",
   "execution_count": 8,
   "id": "01110f1f",
   "metadata": {},
   "outputs": [
    {
     "data": {
      "text/plain": [
       "[('author', 'affiliated_with', 'institution'),\n",
       " ('author', 'writes', 'paper'),\n",
       " ('paper', 'cites', 'paper'),\n",
       " ('paper', 'has_topic', 'field_of_study')]"
      ]
     },
     "execution_count": 8,
     "metadata": {},
     "output_type": "execute_result"
    }
   ],
   "source": [
    "data.edge_types"
   ]
  },
  {
   "cell_type": "markdown",
   "id": "671829a0",
   "metadata": {},
   "source": [
    "This dataset might look like it has nothing to do with our problem. But, the goal here is to use a GNN to do node-level predictions on a heterogeneous graph.\n",
    "\n",
    "The graph has four types of nodes:\n",
    "\n",
    "1. papers - 736,389 distinct nodes each with 128 features (x). There are also year labels and additional y labels\n",
    "2. authors - 1,134,649 distinct nodes each with 128 features (x)\n",
    "3. institutions - 8,740 distinct nodes each with 128 features (x)\n",
    "4. field of study - 59,965 distinct nodes each with 128 features (x)\n",
    "\n",
    "The goal is to predict node-level features for the paper nodes.\n",
    "\n",
    "There are several types of (directed) edges:\n",
    "1. author <-> affiliated with <-> institution: This is an edge between an author node and an institution node and has edge type \"affiliated with\". 1,043,998 edges\n",
    "2. author <-> writes <-> paper: This is an edge between an author node and a paper node with edge type \"writes\". 7,145,660 edges\n",
    "3. paper <-> cites <-> paper: Edge between two paper nodes of type \"cites\". 5,416,271 edges\n",
    "4. paper <-> has topic <-> field of study: Edge between paper node and field of study node of type \"has_topic\". 7,505,078 edges\n",
    "\n",
    "The paper nodes have three additional attributes - train_mask, val_mask, test_mask with number of elements in each array equal to the total number of paper nodes. These are arrays of bools indicating which set each node belongs to."
   ]
  },
  {
   "cell_type": "code",
   "execution_count": 9,
   "id": "ef64c9ed",
   "metadata": {},
   "outputs": [
    {
     "data": {
      "text/plain": [
       "torch.Size([736389, 128])"
      ]
     },
     "execution_count": 9,
     "metadata": {},
     "output_type": "execute_result"
    }
   ],
   "source": [
    "data['paper']['x'].shape"
   ]
  },
  {
   "cell_type": "code",
   "execution_count": 10,
   "id": "359fb713",
   "metadata": {},
   "outputs": [],
   "source": [
    "#number of true elements = total number of paper nodes i.e.\n",
    "#indicating that each node belongs to one set\n",
    "assert(torch.sum(data['paper']['train_mask']) \n",
    "       + torch.sum(data['paper']['val_mask']) \n",
    "       + torch.sum(data['paper']['test_mask'])\n",
    "       ==data['paper']['x'].shape[0])"
   ]
  },
  {
   "cell_type": "code",
   "execution_count": 11,
   "id": "a9b589b6",
   "metadata": {},
   "outputs": [
    {
     "data": {
      "text/plain": [
       "736389"
      ]
     },
     "execution_count": 11,
     "metadata": {},
     "output_type": "execute_result"
    }
   ],
   "source": [
    "#check that each node belongs to one of train, val or test\n",
    "np.any(torch.vstack([data['paper']['train_mask'], \n",
    "                     data['paper']['val_mask'], \n",
    "                     data['paper']['test_mask']]).numpy(),\n",
    "      axis=0).sum()"
   ]
  },
  {
   "cell_type": "markdown",
   "id": "e8404413",
   "metadata": {},
   "source": [
    "Each node type has an associated node-level feature matrix stored in 'x'\n",
    "\n",
    "Edges are stored as edge lists as shown below:"
   ]
  },
  {
   "cell_type": "code",
   "execution_count": 12,
   "id": "a6b4edec",
   "metadata": {},
   "outputs": [
    {
     "data": {
      "text/plain": [
       "tensor([[      0,       1,       2,  ..., 1134645, 1134647, 1134648],\n",
       "        [    845,     996,    3197,  ...,    5189,    4668,    4668]])"
      ]
     },
     "execution_count": 12,
     "metadata": {},
     "output_type": "execute_result"
    }
   ],
   "source": [
    "#the first edge points from node 0 to node 845\n",
    "#the second ednge points from node 1 to node 996\n",
    "#if a graph is directed, it'll contain both 0->845 and 845->0\n",
    "\n",
    "data[('author', 'affiliated_with', 'institution')]['edge_index']"
   ]
  },
  {
   "cell_type": "markdown",
   "id": "7a184631",
   "metadata": {},
   "source": [
    "Optionally, edges can also have edge-level features stored in data[('author', 'affiliated_with', 'institution')]['edge_attr']"
   ]
  },
  {
   "cell_type": "markdown",
   "id": "4beeb5fa",
   "metadata": {},
   "source": [
    "We want to predict node-level quantities. They are stored in data['paper'].y (or data['paper']['y'])"
   ]
  },
  {
   "cell_type": "code",
   "execution_count": 13,
   "id": "6d0049e7",
   "metadata": {},
   "outputs": [
    {
     "data": {
      "text/plain": [
       "736389"
      ]
     },
     "execution_count": 13,
     "metadata": {},
     "output_type": "execute_result"
    }
   ],
   "source": [
    "len(data['paper'].y)"
   ]
  },
  {
   "cell_type": "code",
   "execution_count": 14,
   "id": "5db0ded2",
   "metadata": {},
   "outputs": [
    {
     "data": {
      "text/plain": [
       "Text(0.5, 1.0, 'Number of nodes with each label')"
      ]
     },
     "execution_count": 14,
     "metadata": {},
     "output_type": "execute_result"
    },
    {
     "data": {
      "image/png": "[encoded data removed]",
      "text/plain": [
       "<Figure size 640x480 with 1 Axes>"
      ]
     },
     "metadata": {},
     "output_type": "display_data"
    }
   ],
   "source": [
    "plt.plot(np.unique(data['paper'].y, return_counts=True)[1])\n",
    "plt.xlabel('Unique y labels (Conference/Journal ID)')\n",
    "plt.ylabel('Counts')\n",
    "plt.title(\"Number of nodes with each label\")\n",
    "#see: https://ogb.stanford.edu/docs/nodeprop/#ogbn-mag"
   ]
  },
  {
   "cell_type": "markdown",
   "id": "3a04ecf1",
   "metadata": {},
   "source": [
    "Since the output space is discrete i.e. we are assigning one of N labels to each node, we'll be using Multiclass log-loss as the loss function and a softmax activation. A softmax produces N probabilities that add up to 1 (normalized). In implementation, we'll use logits and a Cross entropy function that works on logits (for numerical stability)."
   ]
  },
  {
   "cell_type": "markdown",
   "id": "872aea78",
   "metadata": {},
   "source": [
    "A heterogeneous graph can be converted to a homogeneous graph (only one node type) *only* if the number of features for each node type are the same (which they are, above)"
   ]
  },
  {
   "cell_type": "code",
   "execution_count": 15,
   "id": "0de87630",
   "metadata": {},
   "outputs": [
    {
     "data": {
      "text/plain": [
       "Data(edge_index=[2, 21111007], x=[1939743, 128], node_type=[1939743], edge_type=[21111007])"
      ]
     },
     "execution_count": 15,
     "metadata": {},
     "output_type": "execute_result"
    }
   ],
   "source": [
    "data.to_homogeneous()\n",
    "\n",
    "#here all the nodes are combined into one type,\n",
    "#the node-level feature matrix is concatenated along one axis,\n",
    "#the edges are combined in one edge_list"
   ]
  },
  {
   "cell_type": "code",
   "execution_count": 16,
   "id": "f3951830",
   "metadata": {},
   "outputs": [],
   "source": [
    "#some preprocessing\n",
    "data = T.ToUndirected()(data) #data can flow in all directions\n",
    "data = T.AddSelfLoops()(data) #data flows from a node to itself\n",
    "data = T.NormalizeFeatures()(data) #for training stability"
   ]
  },
  {
   "cell_type": "code",
   "execution_count": 17,
   "id": "0062cacc",
   "metadata": {},
   "outputs": [],
   "source": [
    "#see: https://pytorch-geometric.readthedocs.io/en/latest/tutorial/heterogeneous.html\n",
    "\n",
    "class GNN(torch.nn.Module):\n",
    "    def __init__(self, metadata, num_layers, hidden_dim, out_dim):\n",
    "        super().__init__()\n",
    "        \n",
    "        self.layer_list = torch.nn.ModuleList()\n",
    "        \n",
    "        for n in range(num_layers):\n",
    "            #-1/(-1,-1) for input -> impute dimension\n",
    "            d = {edge_type: SAGEConv((-1, -1), hidden_dim)\n",
    "                 for edge_type in metadata[1]}            \n",
    "            layer = HeteroConv(d, aggr='sum')\n",
    "            self.layer_list.append(layer)\n",
    "        \n",
    "        self.output_layer = Linear(hidden_dim, out_dim)\n",
    "        \n",
    "    def forward(self, x_dict, edge_index_dict):\n",
    "        '''Forward pass expects dictionaries of features\n",
    "        and edge indices\n",
    "        '''\n",
    "        \n",
    "        for l in self.layer_list:\n",
    "            #node features are propogated based\n",
    "            #on weight matrices that depend on\n",
    "            #node type\n",
    "            x_dict = l(x_dict, edge_index_dict)\n",
    "            \n",
    "            #apply activation and keep the dict structure\n",
    "            x_dict = {key: x.relu() for key, x in x_dict.items()}\n",
    "            \n",
    "        #predicting node level quantities on papers\n",
    "        out = self.output_layer(x_dict['paper'])\n",
    "        \n",
    "        return out"
   ]
  },
  {
   "cell_type": "code",
   "execution_count": 128,
   "id": "560a9b0b",
   "metadata": {},
   "outputs": [],
   "source": [
    "model = GNN(data.metadata(),\n",
    "            num_layers = 3,\n",
    "            hidden_dim = 64,\n",
    "            out_dim = len(np.unique(data['paper']['y'])))"
   ]
  },
  {
   "cell_type": "code",
   "execution_count": 129,
   "id": "3376a8fe",
   "metadata": {},
   "outputs": [],
   "source": [
    "#initialize weights\n",
    "with torch.no_grad():\n",
    "    out = model(data.x_dict, data.edge_index_dict)"
   ]
  },
  {
   "cell_type": "code",
   "execution_count": 130,
   "id": "e118df60",
   "metadata": {},
   "outputs": [],
   "source": [
    "train_dl = NeighborLoader(\n",
    "           data,\n",
    "           num_neighbors = [15]*2,\n",
    "           batch_size = 128,\n",
    "           input_nodes=('paper', data['paper'].train_mask),\n",
    ")"
   ]
  },
  {
   "cell_type": "code",
   "execution_count": 131,
   "id": "ba9d35d7",
   "metadata": {},
   "outputs": [],
   "source": [
    "device = 'cuda' if torch.cuda.is_available() else 'cpu'\n",
    "#model = model.to(device)\n",
    "#data = data.to(device)"
   ]
  },
  {
   "cell_type": "code",
   "execution_count": 21,
   "id": "1a40f3e2",
   "metadata": {},
   "outputs": [],
   "source": [
    "#model = model.to('cpu')\n",
    "#data = data.to('cpu')"
   ]
  },
  {
   "cell_type": "code",
   "execution_count": 132,
   "id": "2085e37c",
   "metadata": {},
   "outputs": [],
   "source": [
    "def training_loop(model,                \n",
    "                  dl, \n",
    "                  data,\n",
    "                  num_epochs, \n",
    "                  optimizer, \n",
    "                  print_freq=10,\n",
    "                  device='cpu'):\n",
    "    \n",
    "    model.train()\n",
    "    \n",
    "    criterion = torch.nn.CrossEntropyLoss()\n",
    "    \n",
    "    for n in range(num_epochs):\n",
    "        for batch in dl:\n",
    "            optimizer.zero_grad()\n",
    "            batch = batch.to(device)\n",
    "            batch_size = batch['paper'].batch_size\n",
    "            \n",
    "            pred = model(batch.x_dict, batch.edge_index_dict)\n",
    "            \n",
    "            #mask = data['paper'].train_mask\n",
    "            #first batch_size nodes are the original sampled nodes\n",
    "            loss = criterion(pred[:batch_size], \n",
    "                             batch['paper']['y'][:batch_size].long())\n",
    "        \n",
    "            loss.backward()\n",
    "            optimizer.step()\n",
    "        \n",
    "        if n % print_freq==0:\n",
    "            acc_dict = val_loop(model, data, device='cpu')\n",
    "            print(f'Epoch = {n} Train Loss = {acc_dict[\"train_mask\"]} '\n",
    "                  f'Val Loss = {acc_dict[\"val_mask\"]} Test Loss = {acc_dict[\"test_mask\"]}')\n",
    "            model = model.to(device)\n",
    "            \n",
    "    return model, optimizer\n",
    "\n",
    "@torch.no_grad()\n",
    "def val_loop(model, data, device='cpu'):\n",
    "    model.eval()\n",
    "    \n",
    "    '''\n",
    "    pred_list, label_list = [], []\n",
    "    for batch in dl:\n",
    "        batch = batch.to(device)\n",
    "        batch_size = batch['paper'].batch_size\n",
    "        \n",
    "        pred = model(batch.x_dict, batch.edge_index_dict)[:batch_size].argmax(dim=-1)\n",
    "        pred_list.append(pred.detach().cpu().numpy())\n",
    "        \n",
    "        label = batch['paper'].y[:batch_size]\n",
    "        label_list.append(label.detach().cpu().numpy())\n",
    "    \n",
    "    return pred_list, label_list\n",
    "    '''\n",
    "    \n",
    "    model = model.to(device)\n",
    "    data = data.to(device)\n",
    "    \n",
    "    pred = model(data.x_dict, data.edge_index_dict).argmax(dim=1)\n",
    "    \n",
    "    acc_dict = {}\n",
    "    for split in ['train_mask', 'val_mask', 'test_mask']:\n",
    "        mask = data['paper'][split]\n",
    "        \n",
    "        labels = data['paper'].y[mask]\n",
    "        \n",
    "        pred_split = pred[mask].float()\n",
    "        \n",
    "        acc = (pred_split==labels).sum() / len(labels)\n",
    "        \n",
    "        assert(len(labels)==mask.sum())\n",
    "        \n",
    "        acc_dict[split] = acc.item()\n",
    "    \n",
    "    return acc_dict"
   ]
  },
  {
   "cell_type": "code",
   "execution_count": null,
   "id": "2ded7ad9",
   "metadata": {
    "scrolled": false
   },
   "outputs": [
    {
     "name": "stdout",
     "output_type": "stream",
     "text": [
      "Epoch = 0 Train Loss = 0.002053779549896717 Val Loss = 7.706654287176207e-05 Test Loss = 0.00011922077101189643\n"
     ]
    }
   ],
   "source": [
    "model = model.to(device)\n",
    "\n",
    "optimizer = torch.optim.Adam(model.parameters(), \n",
    "                             lr=5e-3, \n",
    "                             weight_decay=1e-3)\n",
    "\n",
    "model = training_loop(model, \n",
    "                      dl, \n",
    "                      data,\n",
    "                      10, #num epochs\n",
    "                      optimizer, \n",
    "                      print_freq=1,\n",
    "                      device=device)"
   ]
  },
  {
   "cell_type": "code",
   "execution_count": null,
   "id": "35e68094",
   "metadata": {},
   "outputs": [],
   "source": []
  }
 ],
 "metadata": {
  "kernelspec": {
   "display_name": "Python 3 (ipykernel)",
   "language": "python",
   "name": "python3"
  },
  "language_info": {
   "codemirror_mode": {
    "name": "ipython",
    "version": 3
   },
   "file_extension": ".py",
   "mimetype": "text/x-python",
   "name": "python",
   "nbconvert_exporter": "python",
   "pygments_lexer": "ipython3",
   "version": "3.10.4"
  },
  "toc": {
   "base_numbering": 1,
   "nav_menu": {},
   "number_sections": true,
   "sideBar": true,
   "skip_h1_title": false,
   "title_cell": "Table of Contents",
   "title_sidebar": "Contents",
   "toc_cell": false,
   "toc_position": {},
   "toc_section_display": true,
   "toc_window_display": false
  }
 },
 "nbformat": 4,
 "nbformat_minor": 5
}
