{
 "cells": [
  {
   "cell_type": "code",
   "execution_count": 61,
   "metadata": {},
   "outputs": [
    {
     "name": "stdout",
     "output_type": "stream",
     "text": [
      "The autoreload extension is already loaded. To reload it, use:\n",
      "  %reload_ext autoreload\n"
     ]
    }
   ],
   "source": [
    "%load_ext autoreload\n",
    "%autoreload 2"
   ]
  },
  {
   "cell_type": "code",
   "execution_count": 83,
   "metadata": {},
   "outputs": [],
   "source": [
    "import torch\n",
    "import torch.nn as nn\n",
    "from data import gen_data, generate_random_edge_index, CustomData\n",
    "from torch.utils.data import Dataset, DataLoader\n",
    "from torch.nn.utils.rnn import pack_padded_sequence,\\\n",
    "    pad_sequence, \\\n",
    "    pad_packed_sequence\n",
    "from model import AE_rnn, AE_gnnrnn\n",
    "import torch.optim as optim"
   ]
  },
  {
   "cell_type": "code",
   "execution_count": 115,
   "metadata": {},
   "outputs": [],
   "source": [
    "data = gen_data(n_examples=int(1<<16),\n",
    "                start_low=0, start_high=10,\n",
    "                delta_low=1, delta_high=5,\n",
    "                len_low=5, len_high=30)"
   ]
  },
  {
   "cell_type": "code",
   "execution_count": 103,
   "metadata": {},
   "outputs": [],
   "source": [
    "bidir          = True\n",
    "dir            = 2 if bidir else 1 \n",
    "batch_size     = 64\n",
    "num_layers_enc = 3\n",
    "hidden_dim_enc = 5\n",
    "num_layers_dec = 2\n",
    "hidden_dim_dec = 4\n",
    "emb_dim        = 7\n",
    "N_max          = 256\n",
    "\n",
    "\n",
    "ds = CustomData(data) #dataset\n",
    "\n",
    "\n",
    "ae = AE_rnn(batch_size     = batch_size,\n",
    "            bidir          = True,\n",
    "            num_layers_enc = num_layers_enc,\n",
    "            hidden_dim_enc = hidden_dim_enc,\n",
    "            num_layers_dec = num_layers_dec,\n",
    "            hidden_dim_dec = num_layers_dec,\n",
    "            emb_dim        = emb_dim,\n",
    "            N_max          = N_max)"
   ]
  },
  {
   "cell_type": "code",
   "execution_count": null,
   "metadata": {},
   "outputs": [],
   "source": [
    "#AE rnn\n",
    "\n",
    "if torch.cuda.is_available():\n",
    "    device = torch.device(\"cuda\")  # Or \"cuda:0\" for the first GPU\n",
    "else:\n",
    "    device = torch.device(\"cpu\")\n",
    "\n",
    "#device = torch.device(\"cpu\")\n",
    "ae.to(device)\n",
    "\n",
    "\n",
    "data_gpu = []\n",
    "for idx in range(0, len(ds), batch_size):\n",
    "    seq = ds[idx:idx+batch_size]\n",
    "    seq = [torch.from_numpy(s).to(device) for s in seq]\n",
    "    padded_seq = pad_sequence(seq, batch_first=True)\n",
    "    lengths = [len(s) for s in seq]\n",
    "    #lengths = torch.tensor([len(s) for s in seq]).to(device)\n",
    "    data_gpu.append((padded_seq, lengths))\n",
    "\n",
    "\n",
    "criterion = nn.CrossEntropyLoss()\n",
    "#data_emb_device = [(edge_index.to(device), [bb.to(device) for bb in node_embs ]) for (edge_index, node_embs) in data_emb] \n",
    "optimizer = optim.Adam(ae.parameters(), lr=0.01)\n",
    "epoch_num = 100\n",
    "for epoch in range(epoch_num):\n",
    "    total_loss = 0\n",
    "    total_items = 0\n",
    "    j = -1\n",
    "    for (padded_seq, lengths) in data_gpu:\n",
    "        out = ae(padded_seq, lengths)\n",
    "        loss = criterion(out.flatten(0).reshape(-1,N_max), padded_seq.flatten())\n",
    "        total_loss  += loss.item()\n",
    "        optimizer.zero_grad()\n",
    "        loss.backward()\n",
    "        optimizer.step()\n",
    "    \n",
    "    print(f'For {j+1} functions: Epoch {epoch+1}/{epoch_num}, Average Loss: {total_loss:.5f}', end='\\r')\n",
    "    "
   ]
  },
  {
   "cell_type": "code",
   "execution_count": 116,
   "metadata": {},
   "outputs": [],
   "source": [
    "bidir          = True\n",
    "dir            = 2 if bidir else 1 \n",
    "batch_size     = 256\n",
    "num_layers_enc = 6\n",
    "hidden_dim_enc = 16\n",
    "num_layers_dec = 6\n",
    "hidden_dim_dec = 16\n",
    "emb_dim        = 32\n",
    "N_max          = 256\n",
    "\n",
    "\n",
    "ds = CustomData(data) #dataset\n",
    "\n",
    "\n",
    "ae = AE_gnnrnn(batch_size     = batch_size,\n",
    "            bidir          = True,\n",
    "            num_layers_enc = num_layers_enc,\n",
    "            hidden_dim_enc = hidden_dim_enc,\n",
    "            num_layers_dec = num_layers_dec,\n",
    "            hidden_dim_dec = num_layers_dec,\n",
    "            emb_dim        = emb_dim,\n",
    "            N_max          = N_max)"
   ]
  },
  {
   "cell_type": "code",
   "execution_count": null,
   "metadata": {},
   "outputs": [],
   "source": [
    "if torch.cuda.is_available():\n",
    "    device = torch.device(\"cuda\")  # Or \"cuda:0\" for the first GPU\n",
    "else:\n",
    "    device = torch.device(\"cpu\")\n",
    "\n",
    "#device = torch.device(\"cpu\")\n",
    "ae.to(device)\n",
    "\n",
    "\n",
    "data_gpu = []\n",
    "for idx in range(0, len(ds), batch_size):\n",
    "    seq = ds[idx:idx+batch_size]\n",
    "    seq = [torch.from_numpy(s).to(device) for s in seq]\n",
    "    padded_seq = pad_sequence(seq, batch_first=True)\n",
    "    lengths = [len(s) for s in seq]\n",
    "    edge_index = generate_random_edge_index(batch_size).to(device)\n",
    "    #lengths = torch.tensor([len(s) for s in seq]).to(device)\n",
    "    data_gpu.append((padded_seq, lengths, edge_index))\n",
    "\n",
    "\n",
    "criterion = nn.CrossEntropyLoss()\n",
    "#data_emb_device = [(edge_index.to(device), [bb.to(device) for bb in node_embs ]) for (edge_index, node_embs) in data_emb] \n",
    "optimizer = optim.Adam(ae.parameters(), lr=0.01)\n",
    "epoch_num = 100\n",
    "for epoch in range(epoch_num):\n",
    "    total_loss = 0\n",
    "    total_items = 0\n",
    "    j = -1\n",
    "    for (padded_seq, lengths, edge_index) in data_gpu:\n",
    "        out = ae(padded_seq, lengths, edge_index)\n",
    "        loss = criterion(out.flatten(0).reshape(-1,N_max), padded_seq.flatten())\n",
    "        total_loss  += loss.item()\n",
    "        optimizer.zero_grad()\n",
    "        loss.backward()\n",
    "        optimizer.step()\n",
    "    \n",
    "    print(f'For {j+1} functions: Epoch {epoch+1}/{epoch_num}, Average Loss: {total_loss:.5f}', end='\\r')\n",
    "print(f'For {j+1} functions: Epoch {epoch+1}/{epoch_num}, Average Loss: {total_loss:.5f}', end='\\n')"
   ]
  },
  {
   "cell_type": "code",
   "execution_count": null,
   "metadata": {},
   "outputs": [],
   "source": []
  }
 ],
 "metadata": {
  "kernelspec": {
   "display_name": "Python 3",
   "language": "python",
   "name": "python3"
  },
  "language_info": {
   "codemirror_mode": {
    "name": "ipython",
    "version": 3
   },
   "file_extension": ".py",
   "mimetype": "text/x-python",
   "name": "python",
   "nbconvert_exporter": "python",
   "pygments_lexer": "ipython3",
   "version": "3.10.12"
  }
 },
 "nbformat": 4,
 "nbformat_minor": 2
}
